{
 "cells": [
  {
   "cell_type": "code",
   "execution_count": null,
   "metadata": {},
   "outputs": [],
   "source": [
    "%matplotlib inline"
   ]
  },
  {
   "cell_type": "markdown",
   "metadata": {},
   "source": [
    "\n",
    "\n",
    "NWB basics\n",
    "==========\n",
    "\n",
    "This example will focus on the basics of working with an :py:class:`~pynwb.file.NWBFile` object,\n",
    "including writing and reading of and NWB file.\n",
    "\n",
    "\n"
   ]
  },
  {
   "cell_type": "markdown",
   "metadata": {},
   "source": [
    "The NWB file\n",
    "------------\n",
    "\n",
    "\n",
    "\n"
   ]
  },
  {
   "cell_type": "code",
   "execution_count": null,
   "metadata": {},
   "outputs": [],
   "source": [
    "from datetime import datetime\n",
    "from dateutil.tz import tzlocal\n",
    "from pynwb import NWBFile\n",
    "\n",
    "start_time = datetime(2017, 4, 3, 11, tzinfo=tzlocal())\n",
    "create_date = datetime(2017, 4, 15, 12, tzinfo=tzlocal())\n",
    "\n",
    "nwbfile = NWBFile('demonstrate NWBFile basics', 'NWB123', start_time,\n",
    "                  file_create_date=create_date)"
   ]
  },
  {
   "cell_type": "markdown",
   "metadata": {},
   "source": [
    "\n",
    "Time series data\n",
    "----------------\n",
    "\n",
    "PyNWB stores time series data using the :py:class:`~pynwb.base.TimeSeries` class and its subclasses.\n",
    "The main components of a :py:class:`~pynwb.base.TimeSeries` are the *data* and the *timestamps*.\n",
    "You will also need to supply a *source* and *description* of the data and the unit for *data*.\n",
    "\n"
   ]
  },
  {
   "cell_type": "code",
   "execution_count": null,
   "metadata": {},
   "outputs": [],
   "source": [
    "from pynwb import TimeSeries\n",
    "\n",
    "data = list(range(100, 200, 10))\n",
    "timestamps = list(range(10))\n",
    "test_ts = TimeSeries('test_timeseries', data, 'SIunit', timestamps=timestamps)"
   ]
  },
  {
   "cell_type": "markdown",
   "metadata": {},
   "source": [
    "Alternatively, if your recordings are sampled at a uniform rate, you can supply *starting_time*\n",
    "and *rate*.\n",
    "\n"
   ]
  },
  {
   "cell_type": "code",
   "execution_count": null,
   "metadata": {},
   "outputs": [],
   "source": [
    "test_ts = TimeSeries('test_timeseries', data, 'SIunit', starting_time=0.0, rate=1.0)"
   ]
  },
  {
   "cell_type": "markdown",
   "metadata": {},
   "source": [
    "Using this scheme says that this :py:class:`~pynwb.base.TimeSeries` started recording 0 seconds after\n",
    "*start_time* stored in the :py:class:`~pynwb.file.NWBFile` and sampled every second.\n",
    "\n",
    ":py:class:`~pynwb.base.TimeSeries` objects can be added directly to your :py:class:`~pynwb.file.NWBFile` using\n",
    "the methods :py:func:`~pynwb.file.NWBFile.add_acquisition`, :py:func:`~pynwb.file.NWBFile.add_stimulus`\n",
    "and :py:func:`~pynwb.file.NWBFile.add_stimulus_template`. Which method you use depends on the source of the\n",
    "data: use :py:func:`~pynwb.file.NWBFile.add_acquisition` to indicated *acquisition* data,\n",
    ":py:func:`~pynwb.file.NWBFile.add_stimulus` to indicate *stimulus* data, and\n",
    ":py:func:`~pynwb.file.NWBFile.add_stimulus_template` to store stimulus templates [#]_.\n",
    "\n"
   ]
  },
  {
   "cell_type": "code",
   "execution_count": null,
   "metadata": {},
   "outputs": [],
   "source": [
    "nwbfile.add_acquisition(test_ts)"
   ]
  },
  {
   "cell_type": "markdown",
   "metadata": {},
   "source": [
    "\n",
    "Data interfaces\n",
    "---------------\n",
    "\n",
    "NWB provides the concept of a *data interface*--an object for a standard\n",
    "storage location of specific types of data--through the :py:class:`~pynwb.base.NWBDataInterface` class.\n",
    "For example, :py:class:`~pynwb.behavior.BehavioralTimeSeries` provides a container for holding one or more\n",
    ":py:class:`~pynwb.base.TimeSeries` objects that store time series behavioral data. By putting\n",
    "your behavioral data into a :py:class:`~pynwb.behavior.BehavioralTimeSeries` container, downstream users and\n",
    "tools know where to look to retrieve behavioral data. For a comprehensive list of available data interfaces, see the\n",
    "`overview page <modules_overview>`\n",
    "\n",
    ":py:class:`~pynwb.base.NWBDataInterface` objects can be added as acquisition data, or as members\n",
    "of a `ProcessingModule <basic_procmod>`\n",
    "\n",
    "For the purposes of demonstration, we will use a :py:class:`~pynwb.ecephys.LFP` data interface.\n",
    "\n"
   ]
  },
  {
   "cell_type": "code",
   "execution_count": null,
   "metadata": {},
   "outputs": [],
   "source": [
    "from pynwb.behavior import BehavioralTimeSeries\n",
    "\n",
    "bts = BehavioralTimeSeries()\n",
    "nwbfile.add_acquisition(bts)"
   ]
  },
  {
   "cell_type": "markdown",
   "metadata": {},
   "source": [
    "Each data interface stores its own type of data. We suggest you read the documentation for the\n",
    "data interface of interest in the `API documentation <api_docs>` to figure out what data the\n",
    "data interface allows and/or requires and what methods you will need to call to add this data.\n",
    "\n"
   ]
  },
  {
   "cell_type": "markdown",
   "metadata": {},
   "source": [
    "\n",
    "Processing modules\n",
    "------------------\n",
    "\n",
    "*Processing modules* are used for storing a set of data interfaces that are related to a particular\n",
    "processing workflow. For example, if you want to store the intermediate results of a spike sorting workflow,\n",
    "you could create a :py:class:`~pynwb.base.ProcessingModule` that contains data interfaces that represent\n",
    "the common first steps in spike sorting e.g. :py:class:`~pynwb.ecephys.EventDetection`,\n",
    ":py:class:`~pynwb.ecephys.EventWaveform`,  :py:class:`~pynwb.ecephys.FeatureExtraction`. The final results of\n",
    "the sorting could then be stored in the top-level :py:class:`~pynwb.misc.Units` table (see below).\n",
    "\n",
    "Processing modules can be created using :py:func:`~pynwb.file.NWBFile.create_processing_module`:\n",
    "\n"
   ]
  },
  {
   "cell_type": "code",
   "execution_count": null,
   "metadata": {},
   "outputs": [],
   "source": [
    "created_mod = nwbfile.create_processing_module('created_mod', 'example module')"
   ]
  },
  {
   "cell_type": "markdown",
   "metadata": {},
   "source": [
    "or by directly calling the constructor and adding to the :py:class:`~pynwb.file.NWBFile` using\n",
    ":py:func:`~pynwb.file.NWBFile.add_processing_module`:\n",
    "\n"
   ]
  },
  {
   "cell_type": "code",
   "execution_count": null,
   "metadata": {},
   "outputs": [],
   "source": [
    "from pynwb import ProcessingModule\n",
    "\n",
    "added_mod = ProcessingModule('added_mod', 'example module')\n",
    "nwbfile.add_processing_module(added_mod)"
   ]
  },
  {
   "cell_type": "markdown",
   "metadata": {},
   "source": [
    "You can add data to your processing module using the method\n",
    ":py:func:`~pynwb.base.ProcessingModule.add_data_interface`.\n",
    "Lets make another :py:class:`~pynwb.base.TimeSeries` and then add it to the\n",
    ":py:class:`~pynwb.base.ProcessingModule` we just added.\n",
    "\n"
   ]
  },
  {
   "cell_type": "code",
   "execution_count": null,
   "metadata": {},
   "outputs": [],
   "source": [
    "data = list(range(0, 100, 10))\n",
    "timestamps = list(range(10))\n",
    "mod_ts = TimeSeries('ts_for_mod', data, 'SIunit', timestamps=timestamps)\n",
    "added_mod.add_data_interface(mod_ts)"
   ]
  },
  {
   "cell_type": "markdown",
   "metadata": {},
   "source": [
    "\n",
    "Epochs\n",
    "------\n",
    "\n",
    "Epochs can be added to an NWB file using the method :py:func:`~pynwb.file.NWBFile.add_epoch`.\n",
    "The first argument is a description of the epoch, the second and third argument are the start time\n",
    "and stop time, respectively. The fourth argument is one or more tags for labelling the epoch,\n",
    "and the fifth argument is a list of all the :py:class:`~pynwb.base.TimeSeries` that the epoch applies\n",
    "to.\n",
    "\n"
   ]
  },
  {
   "cell_type": "code",
   "execution_count": null,
   "metadata": {},
   "outputs": [],
   "source": [
    "nwbfile.add_epoch(2.0, 4.0, ['first', 'example'], [test_ts, mod_ts])\n",
    "nwbfile.add_epoch(6.0, 8.0, ['second', 'example'], [test_ts, mod_ts])"
   ]
  },
  {
   "cell_type": "markdown",
   "metadata": {},
   "source": [
    "\n",
    "Trials\n",
    "------\n",
    "\n",
    "Trials can be added to an NWB file using the methods :py:func:`~pynwb.file.NWBFile.add_trial`\n",
    "and :py:func:`~pynwb.file.NWBFile.add_trial_column`. Together, these methods maintains a\n",
    "table-like structure that can define arbitrary columns without having to go through the\n",
    "extension process.\n",
    "\n",
    "By default, NWBFile only requires trial start time and trial end time. Additional columns\n",
    "can be added using :py:func:`~pynwb.file.NWBFile.add_trial_column`. This method takes a name\n",
    "for the column and a description of what the column stores. You do not need to supply data\n",
    "type, as this will inferred.\n",
    "Once all columns have been added, trial data can be populated using :py:func:`~pynwb.file.NWBFile.add_trial`.\n",
    "\n",
    "Lets add an additional column and some trial data.\n",
    "\n"
   ]
  },
  {
   "cell_type": "code",
   "execution_count": null,
   "metadata": {},
   "outputs": [],
   "source": [
    "nwbfile.add_trial_column('stim', 'the visual stimuli during the trial')\n",
    "\n",
    "nwbfile.add_trial(start_time=0.0, stop_time=2.0, stim='person')\n",
    "nwbfile.add_trial(start_time=3.0, stop_time=5.0, stim='ocean')\n",
    "nwbfile.add_trial(start_time=6.0, stop_time=8.0, stim='desert')"
   ]
  },
  {
   "cell_type": "markdown",
   "metadata": {},
   "source": [
    "\n",
    "Units\n",
    "------\n",
    "\n",
    "Unit metadata can be added to an NWB file using the methods :py:func:`~pynwb.file.NWBFile.add_unit`\n",
    "and :py:func:`~pynwb.file.NWBFile.add_unit_column`. These methods work like the methods for adding\n",
    "trials described `above <basic_trials>`\n",
    "\n",
    "A unit is only required to contain a unique integer identifier in the 'id' column\n",
    "(this will be automatically assigned if not provided). Additional optional values for each unit\n",
    "include: `spike_times`, `electrodes`, `electrode_group`, `obs_intervals`, `waveform_mean`, and `waveform_sd`.\n",
    "Additional user-defined columns can be added using :py:func:`~pynwb.file.NWBFile.add_unit_column`. Like\n",
    ":py:func:`~pynwb.file.NWBFile.add_trial_column`, this method also takes a name\n",
    "for the column, a description of what the column stores and does not need a data type.\n",
    "Once all columns have been added, unit data can be populated using :py:func:`~pynwb.file.NWBFile.add_unit`.\n",
    "\n",
    "When providing `spike_times`, you may also wish to specify the time intervals during which the unit was\n",
    "being observed, so that it is possible to distinguish times when the unit was silent from times when the\n",
    "unit was not being recorded (and thus correctly compute firing rates, for example). This information\n",
    "should be provided as a list of [start, end] time pairs in the `obs_intervals` field. If `obs_intervals` is\n",
    "provided, then all entries in `spike_times` should occur within one of the listed intervals. In the example\n",
    "below, all 3 units are observed during the time period from 1 to 10 s and fired spikes during that period.\n",
    "Units 2 and 3 were also observed during the time period from 20-30s; but only unit 2 fired spikes in that\n",
    "period.\n",
    "\n",
    "Lets specify some unit metadata and then add some units:\n",
    "\n"
   ]
  },
  {
   "cell_type": "code",
   "execution_count": null,
   "metadata": {},
   "outputs": [],
   "source": [
    "nwbfile.add_unit_column('location', 'the anatomical location of this unit')\n",
    "nwbfile.add_unit_column('quality', 'the quality for the inference of this unit')\n",
    "\n",
    "nwbfile.add_unit(id=1, spike_times=[2.2, 3.0, 4.5],\n",
    "                 obs_intervals=[[1, 10]], location='CA1', quality=0.95)\n",
    "nwbfile.add_unit(id=2, spike_times=[2.2, 3.0, 25.0, 26.0],\n",
    "                 obs_intervals=[[1, 10], [20, 30]], location='CA3', quality=0.85)\n",
    "nwbfile.add_unit(id=3, spike_times=[1.2, 2.3, 3.3, 4.5],\n",
    "                 obs_intervals=[[1, 10], [20, 30]], location='CA1', quality=0.90)"
   ]
  },
  {
   "cell_type": "markdown",
   "metadata": {},
   "source": [
    "\n",
    "<div class=\"alert alert-info\"><h4>Note</h4><p>The Units table has some predefined optional columns. Please review the documentation for\n",
    "   :py:func:`~pynwb.file.NWBFile.add_unit` before adding custom columns.</p></div>\n",
    "\n"
   ]
  },
  {
   "cell_type": "markdown",
   "metadata": {},
   "source": [
    "\n",
    "Writing an NWB file\n",
    "-------------------\n",
    "\n",
    "NWB I/O is carried out using the :py:class:`~pynwb.NWBHDF5IO` class [#]_. This class is responsible\n",
    "for mapping an :py:class:`~pynwb.file.NWBFile` object into HDF5 according to the NWB schema.\n",
    "\n",
    "To write an :py:class:`~pynwb.file.NWBFile`, use the :py:func:`~pynwb.form.backends.io.FORMIO.write` method.\n",
    "\n"
   ]
  },
  {
   "cell_type": "code",
   "execution_count": null,
   "metadata": {},
   "outputs": [],
   "source": [
    "from pynwb import NWBHDF5IO\n",
    "\n",
    "io = NWBHDF5IO('basic_example.nwb', mode='w')\n",
    "io.write(nwbfile)\n",
    "io.close()"
   ]
  },
  {
   "cell_type": "markdown",
   "metadata": {},
   "source": [
    "You can also use :py:func:`~pynwb.NWBHDF5IO` as a context manager:\n",
    "\n"
   ]
  },
  {
   "cell_type": "code",
   "execution_count": null,
   "metadata": {},
   "outputs": [],
   "source": [
    "with NWBHDF5IO('basic_example.nwb', 'w') as io:\n",
    "    io.write(nwbfile)"
   ]
  },
  {
   "cell_type": "markdown",
   "metadata": {},
   "source": [
    "\n",
    "Reading an NWB file\n",
    "-------------------\n",
    "\n",
    "As with writing, reading is also carried out using the :py:class:`~pynwb.NWBHDF5IO` class.\n",
    "To read the NWB file we just wrote, using construct another :py:class:`~pynwb.NWBHDF5IO` object,\n",
    "and use the :py:func:`~pynwb.form.backends.io.FORMIO.read` method to retrieve an\n",
    ":py:class:`~pynwb.file.NWBFile` object.\n",
    "\n"
   ]
  },
  {
   "cell_type": "code",
   "execution_count": null,
   "metadata": {},
   "outputs": [],
   "source": [
    "io = NWBHDF5IO('basic_example.nwb', 'r')\n",
    "nwbfile = io.read()"
   ]
  },
  {
   "cell_type": "markdown",
   "metadata": {},
   "source": [
    "For reading, we cannot use :py:class:`~pynwb.NWBHDF5IO` as a context manager, since the resulting\n",
    ":py:class:`~pynwb.NWBHDF5IO` gets closed and deleted when the context completes [#]_.\n",
    "\n"
   ]
  },
  {
   "cell_type": "markdown",
   "metadata": {},
   "source": [
    "\n",
    "Retrieving data from an NWB file\n",
    "--------------------------------\n",
    "\n",
    "Most of the methods we used above to write data are paired with a getter method for getting your data back.\n",
    "\n",
    "Lets start with the :py:class:`~pynwb.base.TimeSeries` object we wrote. Above, we added it as\n",
    "acquisition data using the method :py:func:`~pynwb.file.NWBFile.add_acquisition`. We can get it\n",
    "back in a couple ways. The first we just mentioned--a simple getter method. In the case of acquisition\n",
    "data, the method is :py:func:`~pynwb.file.NWBFile.get_acquisition`. The only argument this method needs\n",
    "is the name of the object you are trying to get. We named our :py:class:`~pynwb.base.TimeSeries`\n",
    "\"test_timeseries\":\n",
    "\n"
   ]
  },
  {
   "cell_type": "code",
   "execution_count": null,
   "metadata": {},
   "outputs": [],
   "source": [
    "ts = nwbfile.get_acquisition('test_timeseries')"
   ]
  },
  {
   "cell_type": "markdown",
   "metadata": {},
   "source": [
    "If you are not into *getter* methods, you can also retrieve this data by pulling it out of the\n",
    ":py:func:`~pynwb.file.NWBFile.acquisition` property. This property supports dict-like indexing. Again,\n",
    "all we need to supply is the name of the object we are looking for:\n",
    "\n"
   ]
  },
  {
   "cell_type": "code",
   "execution_count": null,
   "metadata": {},
   "outputs": [],
   "source": [
    "ts = nwbfile.acquisition['test_timeseries']"
   ]
  },
  {
   "cell_type": "markdown",
   "metadata": {},
   "source": [
    "We can also get the :py:class:`~pynwb.ecephys.LFP` object back. When we created the :py:class:`~pynwb.ecephys.LFP`\n",
    "object, we did not supply a name, so the name defaulted to \"LFP\" [#]_.\n",
    "\n"
   ]
  },
  {
   "cell_type": "code",
   "execution_count": null,
   "metadata": {},
   "outputs": [],
   "source": [
    "bts = nwbfile.acquisition['BehavioralTimeSeries']"
   ]
  },
  {
   "cell_type": "markdown",
   "metadata": {},
   "source": [
    "Just like acquisition data, we can get processing modules back in the same manner. We created two above.\n",
    "Lets read both, but using the two different ways. The first way,\n",
    "calling :py:func:`~pynwb.file.NWBFile.get_processing_module`:\n",
    "\n"
   ]
  },
  {
   "cell_type": "code",
   "execution_count": null,
   "metadata": {},
   "outputs": [],
   "source": [
    "created_mod = nwbfile.get_processing_module('created_mod')"
   ]
  },
  {
   "cell_type": "markdown",
   "metadata": {},
   "source": [
    "And the second way, indexing into :py:func:`~pynwb.file.NWBFile.modules`\n",
    "\n"
   ]
  },
  {
   "cell_type": "code",
   "execution_count": null,
   "metadata": {},
   "outputs": [],
   "source": [
    "added_mod = nwbfile.modules['added_mod']"
   ]
  },
  {
   "cell_type": "markdown",
   "metadata": {},
   "source": [
    "Now that we have our :py:class:`~pynwb.base.ProcessingModule` back, we can get the :py:class:`~pynwb.base.TimeSeries`\n",
    "that we added to it back. Similar to :py:class:`~pynwb.file.NWBFile`, we have two ways of gettings this data back.\n",
    "The first is by using the getter :py:func:`~pynwb.base.ProcessingModule.get_data_interface` and passing in\n",
    "the name of the object we want back.\n",
    "\n"
   ]
  },
  {
   "cell_type": "code",
   "execution_count": null,
   "metadata": {},
   "outputs": [],
   "source": [
    "mod_ts = added_mod.get_data_interface('ts_for_mod')"
   ]
  },
  {
   "cell_type": "markdown",
   "metadata": {},
   "source": [
    "The second way is by indexing directly into the :py:class:`~pynwb.base.ProcessingModule` object and passing\n",
    "the name of the object we want back.\n",
    "\n"
   ]
  },
  {
   "cell_type": "code",
   "execution_count": null,
   "metadata": {},
   "outputs": [],
   "source": [
    "mod_ts = added_mod['ts_for_mod']"
   ]
  },
  {
   "cell_type": "markdown",
   "metadata": {},
   "source": [
    "Close the file when we are done with it.\n",
    "\n"
   ]
  },
  {
   "cell_type": "code",
   "execution_count": null,
   "metadata": {},
   "outputs": [],
   "source": [
    "io.close()"
   ]
  },
  {
   "cell_type": "markdown",
   "metadata": {},
   "source": [
    "\n",
    "Appending to an NWB file\n",
    "------------------------\n",
    "\n",
    "Using functionality discussed above, NWB allows appending to files. To append to a file, you must read the file, add\n",
    "new components, and then write the file. Reading and writing is carried out using :py:class:`~pynwb.NWBHDF5IO`.\n",
    "When reading the NWBFile, you must specify that you intend to modify it by setting the *mode* argument in the\n",
    ":py:class:`~pynwb.NWBHDF5IO` constructor to ``'a'``. After you have read the file, you can add [#]_ new data to it\n",
    "using the standard write/add functionality demonstrated above.\n",
    "\n",
    "Let's see how this works by adding another :py:class:`~pynwb.base.TimeSeries` to the BehavioralTimeSeries interface\n",
    "we created above.\n",
    "\n",
    "First, read the file and get the interface object.\n",
    "\n"
   ]
  },
  {
   "cell_type": "code",
   "execution_count": null,
   "metadata": {},
   "outputs": [],
   "source": [
    "io = NWBHDF5IO('basic_example.nwb', mode='a')\n",
    "nwbfile = io.read()\n",
    "bts = nwbfile.acquisition['BehavioralTimeSeries']"
   ]
  },
  {
   "cell_type": "markdown",
   "metadata": {},
   "source": [
    "Next, add a new :py:class:`~pynwb.base.TimeSeries`.\n",
    "\n"
   ]
  },
  {
   "cell_type": "code",
   "execution_count": null,
   "metadata": {},
   "outputs": [],
   "source": [
    "data = list(range(300, 400, 10))\n",
    "timestamps = list(range(10))\n",
    "test_ts2 = TimeSeries('test_timeseries2', data, 'SIunit', timestamps=timestamps)\n",
    "bts.add_timeseries(test_ts2)"
   ]
  },
  {
   "cell_type": "markdown",
   "metadata": {},
   "source": [
    "Finally, write the changes back to the file and close it.\n",
    "\n"
   ]
  },
  {
   "cell_type": "code",
   "execution_count": null,
   "metadata": {},
   "outputs": [],
   "source": [
    "io.write(nwbfile)\n",
    "io.close()"
   ]
  },
  {
   "cell_type": "markdown",
   "metadata": {},
   "source": [
    ".. [#] Stimulus template data may change in the near future. The NWB team will work with interested parties\n",
    "   at the `4th NWB Hackathon <hck04_>`_ to refine the schema for storing stimulus template data.\n",
    "\n",
    ".. [#] HDF5 is currently the only backend supported by NWB.\n",
    "\n",
    ".. [#] Neurodata sets can be *very* large, so individual components of the dataset are only loaded into memory when\n",
    "   you requst them. This functionality is only possible if an open file handle is kept around until users want to\n",
    "   load data.\n",
    "\n",
    ".. [#] Some data interface objects have a default name. This default name is the type of the data interface. For\n",
    "   example, the default name for :py:class:`~pynwb.ophys.ImageSegmentation` is \"ImageSegmentation\" and the default\n",
    "   name for :py:class:`~pynwb.ecephys.EventWaveform` is \"EventWaveform\".\n",
    "\n",
    ".. [#] NWB only supports *adding* to files. Removal and modifying of existing data is not allowed.\n",
    "\n"
   ]
  },
  {
   "cell_type": "markdown",
   "metadata": {},
   "source": [
    "\n"
   ]
  }
 ],
 "metadata": {
  "kernelspec": {
   "display_name": "Python 3",
   "language": "python",
   "name": "python3"
  },
  "language_info": {
   "codemirror_mode": {
    "name": "ipython",
    "version": 3
   },
   "file_extension": ".py",
   "mimetype": "text/x-python",
   "name": "python",
   "nbconvert_exporter": "python",
   "pygments_lexer": "ipython3",
   "version": "3.7.2"
  }
 },
 "nbformat": 4,
 "nbformat_minor": 1
}
